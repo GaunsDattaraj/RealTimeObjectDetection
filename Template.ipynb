{
 "cells": [
  {
   "cell_type": "markdown",
   "id": "671cecb4",
   "metadata": {},
   "source": [
    "\n",
    "0 **Setup Paths **"
   ]
  },
  {
   "cell_type": "code",
   "execution_count": 1,
   "id": "fc3f451a",
   "metadata": {},
   "outputs": [],
   "source": [
    "WORKSPACE_PATH = 'Tensorflow/workspace'\n",
    "SCRIPTS_PATH = 'Tensorflow/scripts'\n",
    "APIMODEL_PATH = 'Tensorflow/models'\n",
    "ANNOTATION_PATH = WORKSPACE_PATH+'/annotations'\n",
    "IMAGE_PATH = WORKSPACE_PATH+'/images'\n",
    "MODEL_PATH = WORKSPACE_PATH+'/models'\n",
    "PRETRAINED_MODEL_PATH = WORKSPACE_PATH+'/pre-trained-models'\n",
    "CONFIG_PATH = MODEL_PATH+'/my_ssd_mobnet/pipeline.config'\n",
    "CHECKPOINT_PATH = MODEL_PATH+'/my_ssd_mobnet/'"
   ]
  },
  {
   "cell_type": "markdown",
   "id": "1b0068e7",
   "metadata": {},
   "source": [
    "1. **Create Label Maps **"
   ]
  },
  {
   "cell_type": "code",
   "execution_count": 2,
   "id": "d9d653bd",
   "metadata": {},
   "outputs": [],
   "source": [
    "labels = [{'name':'Mask', 'id':1}, {'name':'NoMask', 'id':2}]"
   ]
  },
  {
   "cell_type": "code",
   "execution_count": 3,
   "id": "357299eb",
   "metadata": {},
   "outputs": [
    {
     "data": {
      "text/plain": [
       "[{'name': 'Mask', 'id': 1}, {'name': 'NoMask', 'id': 2}]"
      ]
     },
     "execution_count": 3,
     "metadata": {},
     "output_type": "execute_result"
    }
   ],
   "source": [
    "labels"
   ]
  },
  {
   "cell_type": "code",
   "execution_count": 4,
   "id": "300c98b8",
   "metadata": {},
   "outputs": [],
   "source": [
    "\n",
    "\n",
    "with open(ANNOTATION_PATH + '\\label_map.pbtxt', 'w') as f:\n",
    "    for label in labels:\n",
    "        f.write('item { \\n')\n",
    "        f.write('\\tname:\\'{}\\'\\n'.format(label['name']))\n",
    "        f.write('\\tid:{}\\n'.format(label['id']))\n",
    "        f.write('}\\n')"
   ]
  },
  {
   "cell_type": "code",
   "execution_count": 5,
   "id": "2c7406f3",
   "metadata": {
    "scrolled": false
   },
   "outputs": [
    {
     "name": "stdout",
     "output_type": "stream",
     "text": [
      "Traceback (most recent call last):\n",
      "  File \"/Users/dattarajgauns/RealTimeObjectDetection/Tensorflow/scripts/generate_tfrecord.py\", line 61, in <module>\n",
      "    label_map = label_map_util.load_labelmap(args.labels_path)\n",
      "  File \"/Users/dattarajgauns/miniconda3/lib/python3.9/site-packages/object_detection/utils/label_map_util.py\", line 168, in load_labelmap\n",
      "    label_map_string = fid.read()\n",
      "  File \"/Users/dattarajgauns/miniconda3/lib/python3.9/site-packages/tensorflow/python/lib/io/file_io.py\", line 114, in read\n",
      "    self._preread_check()\n",
      "  File \"/Users/dattarajgauns/miniconda3/lib/python3.9/site-packages/tensorflow/python/lib/io/file_io.py\", line 76, in _preread_check\n",
      "    self._read_buf = _pywrap_file_io.BufferedInputStream(\n",
      "tensorflow.python.framework.errors_impl.NotFoundError: Tensorflow/workspace/annotations/label_map.pbtxt; No such file or directory\n",
      "Traceback (most recent call last):\n",
      "  File \"/Users/dattarajgauns/RealTimeObjectDetection/Tensorflow/scripts/generate_tfrecord.py\", line 61, in <module>\n",
      "    label_map = label_map_util.load_labelmap(args.labels_path)\n",
      "  File \"/Users/dattarajgauns/miniconda3/lib/python3.9/site-packages/object_detection/utils/label_map_util.py\", line 168, in load_labelmap\n",
      "    label_map_string = fid.read()\n",
      "  File \"/Users/dattarajgauns/miniconda3/lib/python3.9/site-packages/tensorflow/python/lib/io/file_io.py\", line 114, in read\n",
      "    self._preread_check()\n",
      "  File \"/Users/dattarajgauns/miniconda3/lib/python3.9/site-packages/tensorflow/python/lib/io/file_io.py\", line 76, in _preread_check\n",
      "    self._read_buf = _pywrap_file_io.BufferedInputStream(\n",
      "tensorflow.python.framework.errors_impl.NotFoundError: Tensorflow/workspace/annotations/label_map.pbtxt; No such file or directory\n"
     ]
    }
   ],
   "source": [
    "!python {SCRIPTS_PATH + '/generate_tfrecord.py'} -x {IMAGE_PATH + '/train'} -l {ANNOTATION_PATH + '/label_map.pbtxt'} -o {ANNOTATION_PATH + '/train.record'}\n",
    "!python {SCRIPTS_PATH + '/generate_tfrecord.py'} -x{IMAGE_PATH + '/test'} -l {ANNOTATION_PATH + '/label_map.pbtxt'} -o {ANNOTATION_PATH + '/test.record'}"
   ]
  },
  {
   "cell_type": "code",
   "execution_count": null,
   "id": "59f1d0d4",
   "metadata": {},
   "outputs": [],
   "source": []
  },
  {
   "cell_type": "code",
   "execution_count": null,
   "id": "7dbbf61e",
   "metadata": {},
   "outputs": [],
   "source": []
  },
  {
   "cell_type": "code",
   "execution_count": null,
   "id": "6d220cae",
   "metadata": {},
   "outputs": [],
   "source": []
  },
  {
   "cell_type": "code",
   "execution_count": null,
   "id": "c6e62cfd",
   "metadata": {},
   "outputs": [],
   "source": []
  },
  {
   "cell_type": "code",
   "execution_count": null,
   "id": "77ef39b0",
   "metadata": {},
   "outputs": [],
   "source": []
  },
  {
   "cell_type": "code",
   "execution_count": null,
   "id": "bbca08c7",
   "metadata": {},
   "outputs": [],
   "source": []
  },
  {
   "cell_type": "code",
   "execution_count": null,
   "id": "e3e40f61",
   "metadata": {},
   "outputs": [],
   "source": []
  }
 ],
 "metadata": {
  "kernelspec": {
   "display_name": "Python 3 (ipykernel)",
   "language": "python",
   "name": "python3"
  },
  "language_info": {
   "codemirror_mode": {
    "name": "ipython",
    "version": 3
   },
   "file_extension": ".py",
   "mimetype": "text/x-python",
   "name": "python",
   "nbconvert_exporter": "python",
   "pygments_lexer": "ipython3",
   "version": "3.9.7"
  }
 },
 "nbformat": 4,
 "nbformat_minor": 5
}
